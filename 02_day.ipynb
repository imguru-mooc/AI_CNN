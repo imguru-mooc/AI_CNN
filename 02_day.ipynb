{
 "cells": [
  {
   "attachments": {},
   "cell_type": "markdown",
   "metadata": {},
   "source": [
    "# 2. 합성곱 신경망 내부 구조"
   ]
  },
  {
   "attachments": {},
   "cell_type": "markdown",
   "metadata": {},
   "source": [
    "## 2.3  합성곱/풀링 구현"
   ]
  },
  {
   "cell_type": "markdown",
   "metadata": {},
   "source": [
    "### 컨볼루션 층 테스트"
   ]
  },
  {
   "cell_type": "code",
   "execution_count": 1,
   "metadata": {},
   "outputs": [
    {
     "name": "stdout",
     "output_type": "stream",
     "text": [
      "(1, 1, 4, 4)\n",
      "[[[[ 0  1  2  3]\n",
      "   [ 4  5  6  7]\n",
      "   [ 8  9 10 11]\n",
      "   [12 13 14 15]]]]\n",
      "[[[[1. 1.]\n",
      "   [1. 1.]]]]\n",
      "[3]\n",
      "(1, 1, 3, 3)\n",
      "[[[[13. 17. 21.]\n",
      "   [29. 33. 37.]\n",
      "   [45. 49. 53.]]]]\n"
     ]
    }
   ],
   "source": [
    "import sys, os\n",
    "sys.path.append(os.pardir)\n",
    "import numpy as np\n",
    "from common.layers import Convolution\n",
    "\n",
    "image = np.arange(16).reshape(1,1,4,4)\n",
    "print(image.shape)\n",
    "print(image)\n",
    "\n",
    "W = np.ones((1,1,2,2))\n",
    "print(W)\n",
    "b = np.full((1,), 3)\n",
    "print(b)\n",
    "conv = Convolution(W, b)\n",
    "out = conv.forward(image)\n",
    "print(out.shape)\n",
    "print(out)"
   ]
  },
  {
   "cell_type": "markdown",
   "metadata": {},
   "source": [
    "### im2col 함수 테스트"
   ]
  },
  {
   "cell_type": "code",
   "execution_count": 2,
   "metadata": {},
   "outputs": [
    {
     "name": "stdout",
     "output_type": "stream",
     "text": [
      "(9, 75)\n",
      "(90, 75)\n",
      "(32, 16)\n"
     ]
    }
   ],
   "source": [
    "import sys, os\n",
    "sys.path.append(os.pardir)\n",
    "import numpy as np\n",
    "from common.util import im2col\n",
    "\n",
    "x1 = np.random.rand(1, 3, 7, 7)\n",
    "col1 = im2col(x1, 5, 5)\n",
    "print(col1.shape)\n",
    "\n",
    "x2 = np.random.rand(10, 3, 7, 7)\n",
    "col2 = im2col(x2, 5, 5)\n",
    "print(col2.shape)\n",
    "\n",
    "x3 = np.random.rand(2, 4, 5, 5)\n",
    "col2 = im2col(x3, 2, 2)\n",
    "print(col2.shape)"
   ]
  },
  {
   "cell_type": "markdown",
   "metadata": {},
   "source": [
    "### np.pad() 의 동작"
   ]
  },
  {
   "cell_type": "code",
   "execution_count": 3,
   "metadata": {},
   "outputs": [
    {
     "name": "stdout",
     "output_type": "stream",
     "text": [
      "[[[[0 1 2]\n",
      "   [3 4 5]\n",
      "   [6 7 8]]]]\n",
      "[[[[0 0 0 0 0]\n",
      "   [0 0 1 2 0]\n",
      "   [0 3 4 5 0]\n",
      "   [0 6 7 8 0]\n",
      "   [0 0 0 0 0]]]]\n"
     ]
    }
   ],
   "source": [
    "import numpy as np\n",
    "pad=1\n",
    "input_data = np.arange(9).reshape((1,1,3,3))\n",
    "print(input_data)\n",
    "img = np.pad(input_data, [(0,0), (0,0), (pad, pad), (pad, pad)], 'constant')\n",
    "print(img)"
   ]
  },
  {
   "cell_type": "markdown",
   "metadata": {},
   "source": [
    "### input 채널이 1개인 경우"
   ]
  },
  {
   "cell_type": "code",
   "execution_count": 4,
   "metadata": {},
   "outputs": [
    {
     "name": "stdout",
     "output_type": "stream",
     "text": [
      "(4, 4)\n",
      "[[0. 1. 3. 4.]\n",
      " [1. 2. 4. 5.]\n",
      " [3. 4. 6. 7.]\n",
      " [4. 5. 7. 8.]]\n",
      "[[[[1. 1.]\n",
      "   [1. 1.]]]]\n",
      "(4, 1)\n",
      "[[[[11. 15.]\n",
      "   [23. 27.]]]]\n"
     ]
    }
   ],
   "source": [
    "import sys, os\n",
    "sys.path.append(os.pardir)\n",
    "import numpy as np\n",
    "pad=0\n",
    "input_data = np.array([[[[0,1,2],\n",
    "                         [3,4,5],\n",
    "                         [6,7,8]]]])\n",
    "img = np.pad(input_data, [(0,0), (0,0), (pad, pad), (pad, pad)], 'constant')\n",
    "col = np.zeros((1, 1, 2, 2, 2, 2))\n",
    "\n",
    "# print(img.shape)\n",
    "# print(img)\n",
    "# print(col.shape)\n",
    "# print(img[:, :, 0:2:1, 0:2:1])\n",
    "# print(img[:, :, 0:2:1, 0:2:1].shape)\n",
    "# print(col[:, :, 0, 0, :, :].shape)\n",
    "col[:, :, 0, 0, :, :] = img[:, :, 0:2:1, 0:2:1]\n",
    "col[:, :, 0, 1, :, :] = img[:, :, 0:2:1, 1:3:1]\n",
    "col[:, :, 1, 0, :, :] = img[:, :, 1:3:1, 0:2:1]\n",
    "col[:, :, 1, 1, :, :] = img[:, :, 1:3:1, 1:3:1]\n",
    "\n",
    "# print(col)\n",
    "ret = col.transpose(0, 4, 5, 1, 2, 3)\n",
    "# print(ret.shape)\n",
    "# print(ret)\n",
    "col = ret.reshape( 1*2*2, -1 )\n",
    "print(col.shape)\n",
    "print(col)\n",
    "\n",
    "W = np.ones((1,1,2,2))\n",
    "print(W)\n",
    "col_W = W.reshape(1, -1).T\n",
    "print(col_W.shape)\n",
    "b = np.full((1,),3)\n",
    "out = np.dot(col, col_W) + b\n",
    "out = out.reshape(1, 2, 2, -1).transpose(0, 3, 1, 2)\n",
    "print( out )"
   ]
  },
  {
   "cell_type": "markdown",
   "metadata": {},
   "source": [
    "### input 채널이 2개인 경우"
   ]
  },
  {
   "cell_type": "code",
   "execution_count": 5,
   "metadata": {},
   "outputs": [
    {
     "name": "stdout",
     "output_type": "stream",
     "text": [
      "(4, 8)\n",
      "[[ 0.  1.  3.  4.  9. 10. 12. 13.]\n",
      " [ 1.  2.  4.  5. 10. 11. 13. 14.]\n",
      " [ 3.  4.  6.  7. 12. 13. 15. 16.]\n",
      " [ 4.  5.  7.  8. 13. 14. 16. 17.]]\n",
      "(8, 1)\n",
      "[[[[55. 63.]\n",
      "   [79. 87.]]]]\n"
     ]
    }
   ],
   "source": [
    "import sys, os\n",
    "sys.path.append(os.pardir)\n",
    "import numpy as np\n",
    "pad=0\n",
    "input_data = np.arange(18).reshape((1,2,3,3))\n",
    "img = np.pad(input_data, [(0,0), (0,0), (pad, pad), (pad, pad)], 'constant')\n",
    "col = np.zeros((1, 2, 2, 2, 2, 2))\n",
    "\n",
    "# print(img.shape)\n",
    "# print(img)\n",
    "# print(col.shape)\n",
    "# print(img[:, :, 0:2:1, 0:2:1].shape)  # (1, 2, 2, 2)\n",
    "# print(col[:, :, 0, 0, :, :].shape)\n",
    "col[:, :, 0, 0, :, :] = img[:, :, 0:2:1, 0:2:1]\n",
    "col[:, :, 0, 1, :, :] = img[:, :, 0:2:1, 1:3:1]\n",
    "col[:, :, 1, 0, :, :] = img[:, :, 1:3:1, 0:2:1]\n",
    "col[:, :, 1, 1, :, :] = img[:, :, 1:3:1, 1:3:1]\n",
    "\n",
    "# print(col)\n",
    "ret = col.transpose(0, 4, 5, 1, 2, 3)\n",
    "# # print(ret.shape)\n",
    "# # print(ret)\n",
    "col = ret.reshape( 1*2*2, -1 )\n",
    "print(col.shape)\n",
    "print(col)\n",
    "\n",
    "W = np.ones((1,2,2,2))\n",
    "# print(W)\n",
    "col_W = W.reshape(1, -1).T\n",
    "print(col_W.shape)\n",
    "b = np.full((1,),3)\n",
    "out = np.dot(col, col_W) + b\n",
    "out = out.reshape(1, 2, 2, -1).transpose(0, 3, 1, 2)\n",
    "print( out )"
   ]
  },
  {
   "cell_type": "markdown",
   "metadata": {},
   "source": [
    "### input 그림이 1개, 채널이 2개, 필터가 3개인 경우"
   ]
  },
  {
   "cell_type": "code",
   "execution_count": 6,
   "metadata": {},
   "outputs": [
    {
     "name": "stdout",
     "output_type": "stream",
     "text": [
      "(4, 8)\n",
      "(8, 3)\n",
      "(4, 3)\n",
      "(1, 3, 2, 2)\n",
      "[[[[55. 63.]\n",
      "   [79. 87.]]\n",
      "\n",
      "  [[55. 63.]\n",
      "   [79. 87.]]\n",
      "\n",
      "  [[55. 63.]\n",
      "   [79. 87.]]]]\n"
     ]
    }
   ],
   "source": [
    "import sys, os\n",
    "sys.path.append(os.pardir)\n",
    "import numpy as np\n",
    "pad=0\n",
    "input_data = np.arange(18).reshape((1,2,3,3))\n",
    "img = np.pad(input_data, [(0,0), (0,0), (pad, pad), (pad, pad)], 'constant')\n",
    "col = np.zeros((1, 2, 2, 2, 2, 2))\n",
    "\n",
    "# print(img.shape)\n",
    "# print(img)\n",
    "# print(col.shape)\n",
    "# print(img[:, :, 0:2:1, 0:2:1].shape)  # (1, 2, 2, 2)\n",
    "# print(col[:, :, 0, 0, :, :].shape)\n",
    "col[:, :, 0, 0, :, :] = img[:, :, 0:2:1, 0:2:1]\n",
    "col[:, :, 0, 1, :, :] = img[:, :, 0:2:1, 1:3:1]\n",
    "col[:, :, 1, 0, :, :] = img[:, :, 1:3:1, 0:2:1]\n",
    "col[:, :, 1, 1, :, :] = img[:, :, 1:3:1, 1:3:1]\n",
    "\n",
    "# print(col)\n",
    "ret = col.transpose(0, 4, 5, 1, 2, 3)\n",
    "# # print(ret.shape)\n",
    "# # print(ret)\n",
    "col = ret.reshape( 1*2*2, -1 )\n",
    "print(col.shape)\n",
    "# print(col)\n",
    "\n",
    "W = np.ones((3,2,2,2))\n",
    "# print(W)\n",
    "col_W = W.reshape(3, -1).T\n",
    "print(col_W.shape)\n",
    "b = np.full((1,),3)\n",
    "out = np.dot(col, col_W) + b\n",
    "print(out.shape)\n",
    "out = out.reshape(1, 2, 2, -1).transpose(0, 3, 1, 2)\n",
    "print( out.shape )\n",
    "print(out)"
   ]
  },
  {
   "cell_type": "markdown",
   "metadata": {},
   "source": [
    "### input 그림이 2개, 채널이 2개, 필터가 3개인 경우"
   ]
  },
  {
   "cell_type": "code",
   "execution_count": 7,
   "metadata": {},
   "outputs": [
    {
     "name": "stdout",
     "output_type": "stream",
     "text": [
      "[[ 0.  1.  3.  4.  9. 10. 12. 13.]\n",
      " [ 1.  2.  4.  5. 10. 11. 13. 14.]\n",
      " [ 3.  4.  6.  7. 12. 13. 15. 16.]\n",
      " [ 4.  5.  7.  8. 13. 14. 16. 17.]\n",
      " [18. 19. 21. 22. 27. 28. 30. 31.]\n",
      " [19. 20. 22. 23. 28. 29. 31. 32.]\n",
      " [21. 22. 24. 25. 30. 31. 33. 34.]\n",
      " [22. 23. 25. 26. 31. 32. 34. 35.]]\n",
      "(2, 3, 2, 2)\n"
     ]
    }
   ],
   "source": [
    "import sys, os\n",
    "sys.path.append(os.pardir)\n",
    "import numpy as np\n",
    "pad=0\n",
    "input_data = np.arange(36).reshape((2,2,3,3))\n",
    "img = np.pad(input_data, [(0,0), (0,0), (pad, pad), (pad, pad)], 'constant')\n",
    "col = np.zeros((2, 2, 2, 2, 2, 2))\n",
    "\n",
    "# print(img.shape)\n",
    "# print(img)\n",
    "# print(col.shape)\n",
    "# print(img[:, :, 0:2:1, 0:2:1])\n",
    "# print(col)\n",
    "col[:, :, 0, 0, :, :] = img[:, :, 0:2:1, 0:2:1]\n",
    "col[:, :, 0, 1, :, :] = img[:, :, 0:2:1, 1:3:1]\n",
    "col[:, :, 1, 0, :, :] = img[:, :, 1:3:1, 0:2:1]\n",
    "col[:, :, 1, 1, :, :] = img[:, :, 1:3:1, 1:3:1]\n",
    "\n",
    "# print(col)\n",
    "ret = col.transpose(0, 4, 5, 1, 2, 3)\n",
    "# print(ret.shape)\n",
    "# print(ret)\n",
    "ret1 = ret.reshape( 2*2*2, -1 )\n",
    "# # print(ret1.shape)\n",
    "print(ret1)\n",
    "\n",
    "W = np.ones((3,2,2,2))\n",
    "# # # print(W)\n",
    "W = W.reshape(3,-1).T\n",
    "# # # print(W)\n",
    "out_temp = np.dot(ret1, W) \n",
    "out = out_temp.reshape(2, 2, 2, -1).transpose(0, 3, 1, 2)\n",
    "print(out.shape)"
   ]
  },
  {
   "cell_type": "markdown",
   "metadata": {},
   "source": [
    "### 합성곱 연산의 정확한 고찰"
   ]
  },
  {
   "cell_type": "code",
   "execution_count": 8,
   "metadata": {},
   "outputs": [
    {
     "name": "stdout",
     "output_type": "stream",
     "text": [
      "(1, 1, 4, 4)\n",
      "(1, 1, 3, 3, 2, 2)\n",
      "[[[[[[ 0.  1.]\n",
      "     [ 4.  5.]]\n",
      "\n",
      "    [[ 1.  2.]\n",
      "     [ 5.  6.]]\n",
      "\n",
      "    [[ 2.  3.]\n",
      "     [ 6.  7.]]]\n",
      "\n",
      "\n",
      "   [[[ 4.  5.]\n",
      "     [ 8.  9.]]\n",
      "\n",
      "    [[ 5.  6.]\n",
      "     [ 9. 10.]]\n",
      "\n",
      "    [[ 6.  7.]\n",
      "     [10. 11.]]]\n",
      "\n",
      "\n",
      "   [[[ 8.  9.]\n",
      "     [12. 13.]]\n",
      "\n",
      "    [[ 9. 10.]\n",
      "     [13. 14.]]\n",
      "\n",
      "    [[10. 11.]\n",
      "     [14. 15.]]]]]]\n"
     ]
    }
   ],
   "source": [
    "import sys, os\n",
    "sys.path.append(os.pardir)\n",
    "import numpy as np\n",
    "\n",
    "filter_h=2\n",
    "filter_w=2\n",
    "out_h=3\n",
    "out_w=3\n",
    "input_data = np.arange(16).reshape((1,1,4,4))\n",
    "print(input_data.shape)\n",
    "col = np.zeros((1, 1,out_h, out_w, filter_h, filter_w))\n",
    "print(col.shape)\n",
    "\n",
    "for y in range(out_h):\n",
    "    y_max = y + filter_h\n",
    "    for x in range(out_w):\n",
    "        x_max = x + filter_w\n",
    "        col[:, :, y, x, :, :] = input_data[:, :, y:y_max, x:x_max]\n",
    "#           1  1  2 2                      1  1   2        2\n",
    "\n",
    "print(col)\n",
    "# ret = col.transpose(0, 4, 5, 1, 2, 3)\n",
    "# ret1 = ret.reshape( 3*3, -1 )\n",
    "# print(ret1)"
   ]
  },
  {
   "cell_type": "code",
   "execution_count": 9,
   "metadata": {},
   "outputs": [
    {
     "name": "stdout",
     "output_type": "stream",
     "text": [
      "(1, 1, 4, 4)\n",
      "(1, 1, 2, 2, 3, 3)\n",
      "[[[[[[ 0.  1.  2.]\n",
      "     [ 4.  5.  6.]\n",
      "     [ 8.  9. 10.]]\n",
      "\n",
      "    [[ 1.  2.  3.]\n",
      "     [ 5.  6.  7.]\n",
      "     [ 9. 10. 11.]]]\n",
      "\n",
      "\n",
      "   [[[ 4.  5.  6.]\n",
      "     [ 8.  9. 10.]\n",
      "     [12. 13. 14.]]\n",
      "\n",
      "    [[ 5.  6.  7.]\n",
      "     [ 9. 10. 11.]\n",
      "     [13. 14. 15.]]]]]]\n",
      "[[[[[[ 0.  1.]\n",
      "     [ 4.  5.]]]\n",
      "\n",
      "\n",
      "   [[[ 1.  2.]\n",
      "     [ 5.  6.]]]\n",
      "\n",
      "\n",
      "   [[[ 2.  3.]\n",
      "     [ 6.  7.]]]]\n",
      "\n",
      "\n",
      "\n",
      "  [[[[ 4.  5.]\n",
      "     [ 8.  9.]]]\n",
      "\n",
      "\n",
      "   [[[ 5.  6.]\n",
      "     [ 9. 10.]]]\n",
      "\n",
      "\n",
      "   [[[ 6.  7.]\n",
      "     [10. 11.]]]]\n",
      "\n",
      "\n",
      "\n",
      "  [[[[ 8.  9.]\n",
      "     [12. 13.]]]\n",
      "\n",
      "\n",
      "   [[[ 9. 10.]\n",
      "     [13. 14.]]]\n",
      "\n",
      "\n",
      "   [[[10. 11.]\n",
      "     [14. 15.]]]]]]\n"
     ]
    }
   ],
   "source": [
    "import sys, os\n",
    "sys.path.append(os.pardir)\n",
    "import numpy as np\n",
    "\n",
    "filter_h=2\n",
    "filter_w=2\n",
    "out_h=3\n",
    "out_w=3\n",
    "input_data = np.arange(16).reshape((1,1,4,4))\n",
    "print(input_data.shape)\n",
    "col = np.zeros((1, 1,filter_h, filter_w,out_h, out_w ))\n",
    "print(col.shape)\n",
    "\n",
    "for y in range(filter_h):\n",
    "    y_max = y + out_h\n",
    "    for x in range(filter_w):\n",
    "        x_max = x + out_w\n",
    "        col[:, :, y, x, :, :] = input_data[:, :, y:y_max, x:x_max]\n",
    "#           1  1  3 3                      1  1   3        3\n",
    "\n",
    "print(col)\n",
    "col = col.transpose(0, 4, 5, 1, 2, 3)\n",
    "print(col)"
   ]
  },
  {
   "cell_type": "code",
   "execution_count": 10,
   "metadata": {},
   "outputs": [
    {
     "name": "stdout",
     "output_type": "stream",
     "text": [
      "(282384, 75)\n"
     ]
    }
   ],
   "source": [
    "import numpy as np\n",
    "def my_im2col(input_data, filter_h, filter_w, stride=1, pad=0):\n",
    "    N, C, H, W = input_data.shape\n",
    "    out_h = (H + 2*pad - filter_h)//stride + 1\n",
    "    out_w = (W + 2*pad - filter_w)//stride + 1\n",
    "\n",
    "    img = np.pad(input_data, [(0,0), (0,0), (pad, pad), (pad, pad)], 'constant')\n",
    "    col = np.zeros((N, C, filter_h, filter_w, out_h, out_w))\n",
    "\n",
    "    for y in range(filter_h):\n",
    "        y_max = y + stride*out_h\n",
    "        for x in range(filter_w):\n",
    "            x_max = x + stride*out_w\n",
    "            col[:, :, y, x, :, :] = img[:, :, y:y_max:stride, x:x_max:stride]\n",
    "\n",
    "    col = col.transpose(0, 4, 5, 1, 2, 3).reshape(N*out_h*out_w, -1)\n",
    "    return col\n",
    "            \n",
    "# input_data = np.arange(9).reshape((1,1,3,3))  \n",
    "# input_data = np.arange(18).reshape((2,1,3,3))            \n",
    "# input_data = np.arange(18).reshape((1,2,3,3))            \n",
    "# input_data = np.arange(54).reshape((2,3,3,3))    \n",
    "input_data = np.random.randn(1,3,448,640)\n",
    "my_col = my_im2col(input_data, 5, 5)            \n",
    "print(my_col.shape)   # (282384, 75)     "
   ]
  },
  {
   "cell_type": "markdown",
   "metadata": {},
   "source": [
    "### Convolution test"
   ]
  },
  {
   "cell_type": "code",
   "execution_count": 11,
   "metadata": {},
   "outputs": [
    {
     "name": "stdout",
     "output_type": "stream",
     "text": [
      "[[[[11. 15.]\n",
      "   [23. 27.]]]]\n"
     ]
    }
   ],
   "source": [
    "import sys, os\n",
    "sys.path.append(os.pardir)  # 부모 디렉터리의 파일을 가져올 수 있도록 설정\n",
    "import numpy as np\n",
    "from common.layers import *\n",
    "\n",
    "w = np.ones((1,1,2,2))\n",
    "# print(w)\n",
    "b = np.full((1,), 3)\n",
    "# print(b)\n",
    "conv = Convolution(w, b)\n",
    "\n",
    "x = np.arange(9).reshape((1,1,3,3))\n",
    "out = conv.forward(x)\n",
    "print(out)"
   ]
  },
  {
   "cell_type": "code",
   "execution_count": 12,
   "metadata": {},
   "outputs": [
    {
     "name": "stdout",
     "output_type": "stream",
     "text": [
      "[[[[13. 17. 21.]\n",
      "   [29. 33. 37.]\n",
      "   [45. 49. 53.]]]]\n"
     ]
    }
   ],
   "source": [
    "import sys, os\n",
    "sys.path.append(os.pardir)  # 부모 디렉터리의 파일을 가져올 수 있도록 설정\n",
    "import numpy as np\n",
    "from common.layers import *\n",
    "\n",
    "w = np.ones((1,1,2,2))\n",
    "# print(w)\n",
    "b = np.full((1,), 3)\n",
    "# print(b)\n",
    "conv = Convolution(w, b)\n",
    "\n",
    "x = np.arange(16).reshape((1,1,4,4))\n",
    "out = conv.forward(x)\n",
    "print(out)"
   ]
  },
  {
   "cell_type": "code",
   "execution_count": 13,
   "metadata": {
    "scrolled": true
   },
   "outputs": [
    {
     "name": "stdout",
     "output_type": "stream",
     "text": [
      "[[[[ 3.  4.  6.  5.]\n",
      "   [ 6. 11. 15. 10.]\n",
      "   [12. 23. 27. 16.]\n",
      "   [ 9. 16. 18. 11.]]]]\n"
     ]
    }
   ],
   "source": [
    "import sys, os\n",
    "sys.path.append(os.pardir)  # 부모 디렉터리의 파일을 가져올 수 있도록 설정\n",
    "import numpy as np\n",
    "from common.layers import *\n",
    "\n",
    "w = np.ones((1,1,2,2))\n",
    "# print(w)\n",
    "b = np.full((1,), 3)\n",
    "# print(b)\n",
    "conv = Convolution(w, b, pad=1)\n",
    "\n",
    "x = np.arange(9).reshape((1,1,3,3))\n",
    "out = conv.forward(x)\n",
    "print(out)"
   ]
  },
  {
   "cell_type": "markdown",
   "metadata": {},
   "source": [
    "### 합성곱 미분"
   ]
  },
  {
   "cell_type": "code",
   "execution_count": 14,
   "metadata": {},
   "outputs": [],
   "source": [
    "def my_col2im(col, input_shape, filter_h, filter_w, stride=1, pad=0):\n",
    "    N, C, H, W = input_shape\n",
    "    out_h = (H + 2*pad - filter_h)//stride + 1\n",
    "    out_w = (W + 2*pad - filter_w)//stride + 1\n",
    "    col = col.reshape(N, out_h, out_w, C, filter_h, filter_w).transpose(0, 3, 4, 5, 1, 2)\n",
    "#     print(col)\n",
    "#     print(col.shape)\n",
    "    img = np.zeros((N, C, H + 2*pad + stride - 1, W + 2*pad + stride - 1))\n",
    "    for y in range(filter_h):\n",
    "        y_max = y + stride*out_h\n",
    "        for x in range(filter_w):\n",
    "            x_max = x + stride*out_w\n",
    "            img[:, :, y:y_max:stride, x:x_max:stride] += col[:, :, y, x, :, :]\n",
    "\n",
    "    return img[:, :, pad:H + pad, pad:W + pad]"
   ]
  },
  {
   "cell_type": "code",
   "execution_count": 15,
   "metadata": {},
   "outputs": [
    {
     "name": "stdout",
     "output_type": "stream",
     "text": [
      "[[[[ 0  1  2  3]\n",
      "   [ 4  5  6  7]\n",
      "   [ 8  9 10 11]\n",
      "   [12 13 14 15]]]]\n",
      "[[[[ 0.  2.  4.  3.]\n",
      "   [ 8. 20. 24. 14.]\n",
      "   [16. 36. 40. 22.]\n",
      "   [12. 26. 28. 15.]]]]\n"
     ]
    }
   ],
   "source": [
    "import sys, os\n",
    "sys.path.append(os.pardir)\n",
    "import numpy as np\n",
    "from common.util import im2col, col2im\n",
    "\n",
    "x1 = np.arange(16).reshape((1,1,4,4))\n",
    "col = im2col(x1, 2, 2)\n",
    "print(x1)\n",
    "# print(col)\n",
    "\n",
    "x2 = my_col2im(col,x1.shape, 2, 2)\n",
    "print(x2)"
   ]
  },
  {
   "cell_type": "markdown",
   "metadata": {},
   "source": [
    "### 풀링 소스 분석"
   ]
  },
  {
   "cell_type": "code",
   "execution_count": 16,
   "metadata": {},
   "outputs": [],
   "source": [
    "import sys, os\n",
    "sys.path.append(os.pardir)\n",
    "import numpy as np\n",
    "from common.util import im2col\n",
    "from common.util import col2im\n",
    "from common.layers import Convolution\n",
    "\n",
    "class MyPooling:\n",
    "    def __init__(self, pool_h, pool_w, stride=1, pad=0):\n",
    "        self.pool_h = pool_h\n",
    "        self.pool_w = pool_w\n",
    "        self.stride = stride\n",
    "        self.pad = pad\n",
    "        \n",
    "        self.x = None\n",
    "        self.arg_max = None\n",
    "\n",
    "    def forward(self, x):\n",
    "        N, C, H, W = x.shape\n",
    "        out_h = int(1 + (H - self.pool_h) / self.stride)\n",
    "        out_w = int(1 + (W - self.pool_w) / self.stride)\n",
    "\n",
    "        col = im2col(x, self.pool_h, self.pool_w, self.stride, self.pad)\n",
    "        print('col', col)\n",
    "        col = col.reshape(-1, self.pool_h*self.pool_w)\n",
    "        print('col', col)\n",
    "\n",
    "        arg_max = np.argmax(col, axis=1)\n",
    "        print('arg_max', arg_max)\n",
    "        out = np.max(col, axis=1)\n",
    "        print('out', out)\n",
    "        out = out.reshape(N, out_h, out_w, C).transpose(0, 3, 1, 2)\n",
    "        print('out', out)\n",
    "\n",
    "        self.x = x\n",
    "        self.arg_max = arg_max\n",
    "\n",
    "        return out\n",
    "\n",
    "    def backward(self, dout):\n",
    "        dout = dout.transpose(0, 2, 3, 1)\n",
    "        \n",
    "        pool_size = self.pool_h * self.pool_w\n",
    "        dmax = np.zeros((dout.size, pool_size))\n",
    "        dmax[np.arange(self.arg_max.size), self.arg_max.flatten()] = dout.flatten()\n",
    "        print('dmax', dmax)\n",
    "        dmax = dmax.reshape(dout.shape + (pool_size,)) \n",
    "        \n",
    "        dcol = dmax.reshape(dmax.shape[0] * dmax.shape[1] * dmax.shape[2], -1)\n",
    "        print('dcol', dcol)\n",
    "        dx = col2im(dcol, self.x.shape, self.pool_h, self.pool_w, self.stride, self.pad)\n",
    "        \n",
    "        return dx"
   ]
  },
  {
   "cell_type": "markdown",
   "metadata": {},
   "source": [
    "### 채널이 1개인 경우 맥스 풀링 테스트"
   ]
  },
  {
   "cell_type": "code",
   "execution_count": 17,
   "metadata": {},
   "outputs": [
    {
     "name": "stdout",
     "output_type": "stream",
     "text": [
      "[[[[ 7 11 13 15]\n",
      "   [ 3  4  2  3]\n",
      "   [ 1  2 15  9]\n",
      "   [ 1  8  3 10]]]]\n"
     ]
    }
   ],
   "source": [
    "x = np.array([[[[ 7, 11, 13, 15],\n",
    "                [ 3,  4,  2,  3],\n",
    "                [ 1,  2, 15,  9],\n",
    "                [ 1,  8,  3, 10]]]])\n",
    "print(x)"
   ]
  },
  {
   "cell_type": "code",
   "execution_count": 18,
   "metadata": {},
   "outputs": [
    {
     "name": "stdout",
     "output_type": "stream",
     "text": [
      "col [[ 7. 11.  3.  4.]\n",
      " [13. 15.  2.  3.]\n",
      " [ 1.  2.  1.  8.]\n",
      " [15.  9.  3. 10.]]\n",
      "col [[ 7. 11.  3.  4.]\n",
      " [13. 15.  2.  3.]\n",
      " [ 1.  2.  1.  8.]\n",
      " [15.  9.  3. 10.]]\n",
      "arg_max [1 1 3 0]\n",
      "out [11. 15.  8. 15.]\n",
      "out [[[[11. 15.]\n",
      "   [ 8. 15.]]]]\n"
     ]
    },
    {
     "data": {
      "text/plain": [
       "array([[[[11., 15.],\n",
       "         [ 8., 15.]]]])"
      ]
     },
     "execution_count": 18,
     "metadata": {},
     "output_type": "execute_result"
    }
   ],
   "source": [
    "pool = MyPooling(2,2,2)\n",
    "pool.forward(x)"
   ]
  },
  {
   "cell_type": "code",
   "execution_count": 19,
   "metadata": {},
   "outputs": [
    {
     "name": "stdout",
     "output_type": "stream",
     "text": [
      "(1, 2, 2, 1)\n",
      "4\n",
      "[1 2 3 4]\n"
     ]
    }
   ],
   "source": [
    "dout = np.array([[[[1,2],\n",
    "                   [3,4]]]])\n",
    "dout = dout.transpose(0, 2, 3, 1)\n",
    "print(dout.shape)\n",
    "print(dout.size)\n",
    "print(dout.flatten())"
   ]
  },
  {
   "cell_type": "code",
   "execution_count": 20,
   "metadata": {},
   "outputs": [
    {
     "name": "stdout",
     "output_type": "stream",
     "text": [
      "[[0. 1. 0. 0.]\n",
      " [0. 2. 0. 0.]\n",
      " [0. 0. 0. 3.]\n",
      " [4. 0. 0. 0.]]\n"
     ]
    }
   ],
   "source": [
    "pool_size = pool.pool_h * pool.pool_w\n",
    "dmax = np.zeros((dout.size, pool_size))\n",
    "dmax[np.arange(pool.arg_max.size), pool.arg_max.flatten()] = dout.flatten()\n",
    "print(dmax)"
   ]
  },
  {
   "cell_type": "code",
   "execution_count": 21,
   "metadata": {},
   "outputs": [
    {
     "name": "stdout",
     "output_type": "stream",
     "text": [
      "(1, 2, 2, 1, 4)\n",
      "[[[[[0. 1. 0. 0.]]\n",
      "\n",
      "   [[0. 2. 0. 0.]]]\n",
      "\n",
      "\n",
      "  [[[0. 0. 0. 3.]]\n",
      "\n",
      "   [[4. 0. 0. 0.]]]]]\n"
     ]
    }
   ],
   "source": [
    "dmax = dmax.reshape(dout.shape + (pool_size,)) \n",
    "print(dmax.shape)\n",
    "print(dmax)"
   ]
  },
  {
   "cell_type": "code",
   "execution_count": 22,
   "metadata": {},
   "outputs": [
    {
     "name": "stdout",
     "output_type": "stream",
     "text": [
      "(4, 4)\n",
      "[[0. 1. 0. 0.]\n",
      " [0. 2. 0. 0.]\n",
      " [0. 0. 0. 3.]\n",
      " [4. 0. 0. 0.]]\n"
     ]
    }
   ],
   "source": [
    "dcol = dmax.reshape(dmax.shape[0] * dmax.shape[1] * dmax.shape[2], -1)\n",
    "print(dcol.shape)\n",
    "print(dcol)"
   ]
  },
  {
   "cell_type": "code",
   "execution_count": 23,
   "metadata": {},
   "outputs": [
    {
     "name": "stdout",
     "output_type": "stream",
     "text": [
      "[[[[0. 1. 0. 2.]\n",
      "   [0. 0. 0. 0.]\n",
      "   [0. 0. 4. 0.]\n",
      "   [0. 3. 0. 0.]]]]\n"
     ]
    }
   ],
   "source": [
    "dx = my_col2im(dcol, (1,1,4,4), 2,2,2,0)\n",
    "print(dx)"
   ]
  },
  {
   "cell_type": "code",
   "execution_count": 24,
   "metadata": {},
   "outputs": [
    {
     "name": "stdout",
     "output_type": "stream",
     "text": [
      "dmax [[0. 1. 0. 0.]\n",
      " [0. 2. 0. 0.]\n",
      " [0. 0. 0. 3.]\n",
      " [4. 0. 0. 0.]]\n",
      "dcol [[0. 1. 0. 0.]\n",
      " [0. 2. 0. 0.]\n",
      " [0. 0. 0. 3.]\n",
      " [4. 0. 0. 0.]]\n",
      "[[[[0. 1. 0. 2.]\n",
      "   [0. 0. 0. 0.]\n",
      "   [0. 0. 4. 0.]\n",
      "   [0. 3. 0. 0.]]]]\n"
     ]
    }
   ],
   "source": [
    "dout = np.array([[[[1,2],\n",
    "                   [3,4]]]])\n",
    "dx = pool.backward(dout)\n",
    "print(dx)"
   ]
  },
  {
   "cell_type": "markdown",
   "metadata": {},
   "source": [
    "### 채널이 2개인 경우 맥스 풀링 테스트"
   ]
  },
  {
   "cell_type": "code",
   "execution_count": 25,
   "metadata": {},
   "outputs": [
    {
     "name": "stdout",
     "output_type": "stream",
     "text": [
      "(1, 2, 4, 4)\n"
     ]
    }
   ],
   "source": [
    "x = np.array([[[[ 7, 11, 13, 15],\n",
    "                [ 3,  4,  2,  3],\n",
    "                [ 1,  2, 15,  9],\n",
    "                [ 1,  8,  3, 10]],\n",
    "               [[ 5,  8,  6,  7],\n",
    "                [10,  4, 11, 13],\n",
    "                [ 8,  3, 10,  4],\n",
    "                [ 1,  2,  5, 15]]\n",
    "              ]])\n",
    "print(x.shape)"
   ]
  },
  {
   "cell_type": "code",
   "execution_count": 26,
   "metadata": {},
   "outputs": [
    {
     "name": "stdout",
     "output_type": "stream",
     "text": [
      "col [[ 7. 11.  3.  4.  5.  8. 10.  4.]\n",
      " [13. 15.  2.  3.  6.  7. 11. 13.]\n",
      " [ 1.  2.  1.  8.  8.  3.  1.  2.]\n",
      " [15.  9.  3. 10. 10.  4.  5. 15.]]\n",
      "col [[ 7. 11.  3.  4.]\n",
      " [ 5.  8. 10.  4.]\n",
      " [13. 15.  2.  3.]\n",
      " [ 6.  7. 11. 13.]\n",
      " [ 1.  2.  1.  8.]\n",
      " [ 8.  3.  1.  2.]\n",
      " [15.  9.  3. 10.]\n",
      " [10.  4.  5. 15.]]\n",
      "arg_max [1 2 1 3 3 0 0 3]\n",
      "out [11. 10. 15. 13.  8.  8. 15. 15.]\n",
      "out [[[[11. 15.]\n",
      "   [ 8. 15.]]\n",
      "\n",
      "  [[10. 13.]\n",
      "   [ 8. 15.]]]]\n",
      "(1, 2, 2, 2)\n"
     ]
    }
   ],
   "source": [
    "pool = MyPooling(2,2,2)\n",
    "out = pool.forward(x)\n",
    "print(out.shape)"
   ]
  },
  {
   "cell_type": "code",
   "execution_count": 27,
   "metadata": {},
   "outputs": [
    {
     "name": "stdout",
     "output_type": "stream",
     "text": [
      "(1, 2, 2, 2)\n",
      "dmax [[0. 1. 0. 0.]\n",
      " [0. 0. 2. 0.]\n",
      " [0. 1. 0. 0.]\n",
      " [0. 0. 0. 2.]\n",
      " [0. 0. 0. 1.]\n",
      " [2. 0. 0. 0.]\n",
      " [1. 0. 0. 0.]\n",
      " [0. 0. 0. 2.]]\n",
      "dcol [[0. 1. 0. 0. 0. 0. 2. 0.]\n",
      " [0. 1. 0. 0. 0. 0. 0. 2.]\n",
      " [0. 0. 0. 1. 2. 0. 0. 0.]\n",
      " [1. 0. 0. 0. 0. 0. 0. 2.]]\n",
      "(1, 2, 4, 4)\n",
      "[[[[0. 1. 0. 1.]\n",
      "   [0. 0. 0. 0.]\n",
      "   [0. 0. 1. 0.]\n",
      "   [0. 1. 0. 0.]]\n",
      "\n",
      "  [[0. 0. 0. 0.]\n",
      "   [2. 0. 0. 2.]\n",
      "   [2. 0. 0. 0.]\n",
      "   [0. 0. 0. 2.]]]]\n"
     ]
    }
   ],
   "source": [
    "dout = np.array([[[[1,1],\n",
    "                   [1,1]],\n",
    "                  [[2,2],\n",
    "                   [2,2]]]])\n",
    "print(dout.shape)\n",
    "dx = pool.backward(dout)\n",
    "print(dx.shape)\n",
    "print(dx)"
   ]
  },
  {
   "cell_type": "code",
   "execution_count": null,
   "metadata": {},
   "outputs": [],
   "source": []
  }
 ],
 "metadata": {
  "kernelspec": {
   "display_name": "Python 3",
   "language": "python",
   "name": "python3"
  },
  "language_info": {
   "codemirror_mode": {
    "name": "ipython",
    "version": 3
   },
   "file_extension": ".py",
   "mimetype": "text/x-python",
   "name": "python",
   "nbconvert_exporter": "python",
   "pygments_lexer": "ipython3",
   "version": "3.8.5"
  }
 },
 "nbformat": 4,
 "nbformat_minor": 4
}
