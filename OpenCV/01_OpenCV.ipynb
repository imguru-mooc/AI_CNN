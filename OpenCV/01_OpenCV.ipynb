{
 "cells": [
  {
   "cell_type": "markdown",
   "metadata": {
    "id": "jEt-Nzmi5pnU"
   },
   "source": [
    "# 강의 01-1. OpenCV 개요-1(기본)\n",
    "\n",
    "### 내용물 :\n",
    "\n",
    "    1. 강의 01-1 개요\n",
    "   \n",
    "    2. OpenCV 소개\n",
    "\n",
    "    3. OpenCV 탐색<br>\n",
    "      3.1. OpenCV 라이브러리 가져오기<br>\n",
    "      3.2. 간단한 이미지 가져오기<br>\n",
    "      3.3. 동영상 로드 중<br>\n",
    "      3.4. 이미지 크기 조정<br>\n",
    "      3.5. 색상 공간 전환<br>\n",
    "      3.6. 이미지 저장<br>\n",
    "      3.7. 이미지 또는 동영상에 그리기<br>\n",
    "   \n",
    "    4. OpenCV 라이브러리를 사용한 얼굴 감지\n",
    "   \n",
    "   \n",
    "    ---"
   ]
  },
  {
   "cell_type": "markdown",
   "metadata": {
    "id": "3TC_xSfq5pnc"
   },
   "source": [
    "### **1. 강의 01-1 개요**"
   ]
  },
  {
   "cell_type": "markdown",
   "metadata": {
    "id": "pwt3Ub1x5pnd"
   },
   "source": [
    "이 강의는 OpenCV 라이브러리와 그 사용법을 소개하는 것을 목적으로 합니다.<p>\n",
    "의도한 학습 결과는 다음과 같습니다. <br>\n",
    "* OpenCV에 대한 기본 이해\n",
    "* 간단한 OpenCV 사용법\n",
    "* OpenCV와 딥러닝 애플리케이션의 관계"
   ]
  },
  {
   "cell_type": "markdown",
   "metadata": {
    "id": "s5avFn2E5pnd"
   },
   "source": [
    "### **2. OpenCV 소개**"
   ]
  },
  {
   "cell_type": "markdown",
   "metadata": {
    "id": "lxi-w9TO5pnd"
   },
   "source": [
    "OpenCV(오픈 소스 컴퓨터 비전 라이브러리: http://opencv.org)는 수백 개의 컴퓨터 비전 알고리즘을 포함하는 오픈 소스 라이브러리입니다.<p>\n",
    "\n",
    "OpenCV는 모듈식 구조를 가지고 있습니다. 즉, 패키지에는 여러 공유 또는 정적 라이브러리가 포함됩니다. <p>\n",
    "\n",
    "OpenCV로 무엇을 할 수 있는지 간단히 살펴보겠습니다."
   ]
  },
  {
   "cell_type": "markdown",
   "metadata": {
    "id": "KcxYGjad5pne"
   },
   "source": [
    "##### 3.1 OpenCV 라이브러리 가져오기"
   ]
  },
  {
   "cell_type": "code",
   "execution_count": 16,
   "metadata": {
    "id": "Grg-4sPI5pnf"
   },
   "outputs": [],
   "source": [
    "# cv2\n",
    "import cv2"
   ]
  },
  {
   "cell_type": "markdown",
   "metadata": {
    "id": "N7IuorNo5pnh"
   },
   "source": [
    "##### 3.2 간단한 이미지 가져오기"
   ]
  },
  {
   "cell_type": "markdown",
   "metadata": {
    "id": "jbni8Nqa5pni"
   },
   "source": [
    "**imread** 메서드를 사용하여 이미지를 읽고 이미지의 경로를 유일한 매개변수로 전달할 수 있습니다.<p>\n",
    "사용자가 결과를 볼 수 있도록 최소한 이미지를 새 창에 표시합시다. 이를 위해 **cv2.imshow**를 사용하고 창 이름과 이미지를 인수로 전달합니다.<p>\n",
    "마지막으로 키를 누르거나 창을 닫을 때까지 프로그램을 종료하지 않도록 Python에 지시합니다. 그런 다음 우리가 연 모든 창을 파괴하여 모든 것을 정리합니다."
   ]
  },
  {
   "cell_type": "code",
   "execution_count": 20,
   "metadata": {
    "id": "whroVqxL5pni"
   },
   "outputs": [
    {
     "name": "stdout",
     "output_type": "stream",
     "text": [
      "<class 'numpy.ndarray'>\n",
      "(236, 508, 3)\n"
     ]
    }
   ],
   "source": [
    "# Read the image\n",
    "img = cv2.imread(\"./images/opencv_test.jpg\")\n",
    "\n",
    "print(type(img))\n",
    "print(img.shape)\n",
    "\n",
    "# Display the image\n",
    "cv2.imshow(\"Image\", img)\n",
    "\n",
    "# Wait for a keypress\n",
    "cv2.waitKey(0)\n",
    "\n",
    "# Clean up\n",
    "cv2.destroyAllWindows()"
   ]
  },
  {
   "cell_type": "markdown",
   "metadata": {
    "id": "j-WrBtjG5pnj"
   },
   "source": [
    "##### 3.3 동영상 로드"
   ]
  },
  {
   "cell_type": "markdown",
   "metadata": {
    "id": "EoZRDcgE5pnj"
   },
   "source": [
    "OpenCV는 이미지뿐만 아니라 동영상도 잘 다룰 수 있습니다. 비디오 스트림은 비디오 파일에서 로드하거나 웹캠과 같은 비디오 소스에서 직접 로드할 수 있습니다.<p>\n",
    "다음 예에서는 비디오 파일을 로드하여 새 창에 표시합니다.<p>\n",
    "**VideoCapture** 메서드를 사용하여 동영상 리소스를 로드합니다.<p>\n",
    "다음으로, 사용자 명령에 대해서만 종료되는 루프를 시작하지만 자세한 내용은 나중에 설명합니다. 여기서 중요한 것은 **루프 내부**에서 일어나는 일입니다. 가장 먼저 할 일은 VideoCapture에 **비디오 프레임을 읽도록** 요청하는 것입니다. 동영상 파일의 경우 현재 동영상 프레임이 됩니다.<p>\n",
    "이제 동영상이 재생되지만 while 루프에서 벗어날 수 없으므로 **q 키**가 눌렸는지 감지하여 종료 전략을 구축해 보겠습니다. 그렇다면 정리 활동에 대한 루프를 종료합니다."
   ]
  },
  {
   "cell_type": "code",
   "execution_count": 27,
   "metadata": {
    "id": "6eK8p55E5pnk"
   },
   "outputs": [
    {
     "name": "stdout",
     "output_type": "stream",
     "text": [
      "1 (480, 640, 3)\n",
      "2 (480, 640, 3)\n",
      "3 (480, 640, 3)\n",
      "4 (480, 640, 3)\n",
      "5 (480, 640, 3)\n",
      "6 (480, 640, 3)\n",
      "7 (480, 640, 3)\n",
      "8 (480, 640, 3)\n",
      "9 (480, 640, 3)\n",
      "10 (480, 640, 3)\n",
      "11 (480, 640, 3)\n",
      "12 (480, 640, 3)\n",
      "13 (480, 640, 3)\n",
      "14 (480, 640, 3)\n",
      "15 (480, 640, 3)\n",
      "16 (480, 640, 3)\n",
      "17 (480, 640, 3)\n",
      "18 (480, 640, 3)\n",
      "19 (480, 640, 3)\n",
      "20 (480, 640, 3)\n",
      "21 (480, 640, 3)\n",
      "22 (480, 640, 3)\n",
      "23 (480, 640, 3)\n",
      "24 (480, 640, 3)\n",
      "25 (480, 640, 3)\n",
      "26 (480, 640, 3)\n",
      "27 (480, 640, 3)\n",
      "28 (480, 640, 3)\n",
      "29 (480, 640, 3)\n",
      "30 (480, 640, 3)\n",
      "31 (480, 640, 3)\n",
      "32 (480, 640, 3)\n",
      "33 (480, 640, 3)\n",
      "34 (480, 640, 3)\n",
      "35 (480, 640, 3)\n",
      "36 (480, 640, 3)\n",
      "37 (480, 640, 3)\n",
      "38 (480, 640, 3)\n",
      "39 (480, 640, 3)\n",
      "40 (480, 640, 3)\n",
      "41 (480, 640, 3)\n",
      "42 (480, 640, 3)\n",
      "43 (480, 640, 3)\n",
      "44 (480, 640, 3)\n",
      "45 (480, 640, 3)\n",
      "46 (480, 640, 3)\n",
      "47 (480, 640, 3)\n",
      "48 (480, 640, 3)\n",
      "49 (480, 640, 3)\n",
      "50 (480, 640, 3)\n",
      "51 (480, 640, 3)\n"
     ]
    }
   ],
   "source": [
    "# Load the video\n",
    "cap = cv2.VideoCapture(\"./images/opencv_test.mp4\")\n",
    "i = 0\n",
    "while(cap.isOpened()):\n",
    "    # Capture frame by frame\n",
    "    ret, frame = cap.read()\n",
    "\n",
    "    i = i+1\n",
    "    print( i, frame.shape)\n",
    "    # Check video end\n",
    "    if ret is False:\n",
    "        break\n",
    "\n",
    "    # Display the frame\n",
    "    cv2.imshow('Video',frame)\n",
    "\n",
    "    # Wait for a keypress, Push 'q' button to close\n",
    "    if cv2.waitKey(30) & 0xFF == ord('q'):\n",
    "        break\n",
    "\n",
    "# Clean up\n",
    "cap.release()\n",
    "cv2.destroyAllWindows()"
   ]
  },
  {
   "cell_type": "markdown",
   "metadata": {
    "id": "cfgP-ydg5pnl"
   },
   "source": [
    "##### 3.4 이미지 크기 조정"
   ]
  },
  {
   "cell_type": "markdown",
   "metadata": {
    "id": "lPidI0kj5pnl"
   },
   "source": [
    "이미지 크기를 변경하는 것은 크기 최적화, 확대/축소 또는 마법을 수행하기 위해 신경망에 공급하는 것까지 광범위한 응용 프로그램이 있습니다. 이미지 크기 조정이 원하는 것이라면 OpenCV가 해결해 드립니다.<p>\n",
    "이미지를 X의 비율로 축소합니다(예시에서는 40%).<p>\n",
    "**resize** 메서드는 크기가 조정될 이미지와 새로운 차원(튜플로 x 및 y)의 두 가지 인수를 필요로 합니다. 선택적으로 <a href=\"https://docs.opencv.org/4.3.0/da/d54/group__imgproc__transform.html#ga47a974309e9102f5f08231edc7e7529d\">크기 조정 함수 문서</a href=\"https://docs.opencv.org/4.3.0/da/d54/group__imgproc__transform.html#ga47a974309e9102f5f08231edc7e7529d\"> >. <p>\n",
    "이제 이미지 크기를 조정하는 방법의 예를 살펴보겠습니다."
   ]
  },
  {
   "cell_type": "code",
   "execution_count": 28,
   "metadata": {
    "id": "-AjH2JCY5pnm"
   },
   "outputs": [
    {
     "name": "stdout",
     "output_type": "stream",
     "text": [
      "Original image Height is 236 \n",
      "Original image width is 508\n"
     ]
    }
   ],
   "source": [
    "# Scale down ratio - 40%\n",
    "scale = 40\n",
    "\n",
    "# Print image height\n",
    "print(\"Original image Height is {} \".format(img.shape[0]))\n",
    "\n",
    "# Print image width \n",
    "print(\"Original image width is {}\".format(img.shape[1]))"
   ]
  },
  {
   "cell_type": "code",
   "execution_count": 29,
   "metadata": {
    "id": "cAOQakys5pnm"
   },
   "outputs": [],
   "source": [
    "# Set the resized width\n",
    "width = int(img.shape[1] * scale / 100)\n",
    " \n",
    "# Set the resized height\n",
    "height = int(img.shape[0] * scale / 100)\n",
    "\n",
    "dim = (width, height)\n",
    "\n",
    "# Resize\n",
    "resized_img = cv2.resize(img, dim, cv2.INTER_AREA)\n",
    "\n",
    "# Display the original image\n",
    "cv2.imshow(\"Original Image\", img)\n",
    "\n",
    "# Display the resized image\n",
    "cv2.imshow(\"Resized Image\", resized_img)\n",
    "\n",
    "# Wait for a keypress\n",
    "cv2.waitKey(0)\n",
    "\n",
    "# Clean up\n",
    "cv2.destroyAllWindows()"
   ]
  },
  {
   "cell_type": "markdown",
   "metadata": {
    "id": "kVk_Y7zU5pnn"
   },
   "source": [
    "##### 3.5 색 공간 전환"
   ]
  },
  {
   "cell_type": "markdown",
   "metadata": {
    "id": "VfYDaU5N5pnn"
   },
   "source": [
    "OpenCV로 이미지를 읽을 때 색상을 채널 또는 각 채널 또는 차원이 색상에 해당하는 이미지 배열의 깊이로 생각합니다. 가장 일반적인 색 공간이자 이미 알고 있는 색 공간은 **RGB**로, **3개 채널**(빨강, 녹색, 파랑)로 구성됩니다.<p>\n",
    "\n",
    "로드된 이미지의 채널 정보를 살펴보겠습니다."
   ]
  },
  {
   "cell_type": "code",
   "execution_count": 30,
   "metadata": {
    "id": "9cn1ksAd5pnn"
   },
   "outputs": [
    {
     "name": "stdout",
     "output_type": "stream",
     "text": [
      "Channel (color space info) is 3.\n"
     ]
    }
   ],
   "source": [
    "# Print image channel \n",
    "print(\"Channel (color space info) is {}.\".format(img.shape[2]))"
   ]
  },
  {
   "cell_type": "markdown",
   "metadata": {
    "id": "Ai_TM-ci5pno"
   },
   "source": [
    "이미지의 색상을 설정하는 데 더 많이 사용되는 옵션은 **회색조**입니다. 여기서 **하나의 채널**만 각 픽셀을 정의합니다.<p>\n",
    "\n",
    "모든 마법이 일어나는 함수는 **cvtColor**로, 이미지와 색 공간의 두 인수를 예상하고 원본을 변경하지 않고 새 이미지를 반환합니다. 다행히 OpenCV는 알려진 각 색 공간 변환에 대한 값을 정의했습니다. 우리의 경우 **BGR을 GRAY**로 변환하는 **COLOR_BGR2GRAY**를 사용합니다.<p>\n",
    "\n",
    "컬러 이미지를 그레이스케일 이미지로 변환하는 방법의 예를 살펴보겠습니다."
   ]
  },
  {
   "cell_type": "code",
   "execution_count": 31,
   "metadata": {
    "id": "rfFnS16R5pno"
   },
   "outputs": [],
   "source": [
    "# Convert BGR to Gray\n",
    "gray_img = cv2.cvtColor(img, cv2.COLOR_BGR2GRAY)\n",
    "\n",
    "# Display the switched color space image as gray\n",
    "cv2.imshow(\"Gray\", gray_img)\n",
    "\n",
    "# Wait for a keypress\n",
    "cv2.waitKey(0)\n",
    "\n",
    "# Clean up\n",
    "cv2.destroyAllWindows()"
   ]
  },
  {
   "cell_type": "markdown",
   "metadata": {
    "id": "Rso_cHaT5pnp"
   },
   "source": [
    "##### 3.6 이미지 저장"
   ]
  },
  {
   "cell_type": "markdown",
   "metadata": {
    "id": "jbKJv6Wc5pnp"
   },
   "source": [
    "컴퓨터에 이미지를 저장하는 역할을 하는 **imwrite**라는 기능을 사용했음을 알 수 있습니다."
   ]
  },
  {
   "cell_type": "code",
   "execution_count": 32,
   "metadata": {
    "id": "riXVJNMi5pnp"
   },
   "outputs": [
    {
     "name": "stdout",
     "output_type": "stream",
     "text": [
      " F 드라이브의 볼륨: 새 볼륨\n",
      " 볼륨 일련 번호: 2E0F-004F\n",
      "\n",
      " F:\\영상처리_동영상제작\\소스\\ch10\\OpenCV 디렉터리\n",
      "\n",
      "2022-01-14  오후 06:54    <DIR>          .\n",
      "2022-01-14  오후 06:54    <DIR>          ..\n",
      "2022-01-14  오후 06:13    <DIR>          .ipynb_checkpoints\n",
      "2022-01-14  오후 06:54            20,586 01_OpenCV.ipynb\n",
      "2022-01-14  오후 06:23         4,473,671 02_OpenCV_Ext.ipynb\n",
      "2022-01-14  오전 07:24    <DIR>          images\n",
      "2022-01-14  오후 06:54            14,954 image_gray.jpg\n",
      "2022-01-14  오후 06:54            18,145 image_original.jpg\n",
      "               4개 파일           4,527,356 바이트\n",
      "               4개 디렉터리  322,714,046,464 바이트 남음\n"
     ]
    }
   ],
   "source": [
    "# Save converted gray image\n",
    "cv2.imwrite(\"image_gray.jpg\", gray_img)\n",
    "\n",
    "# Save original image\n",
    "cv2.imwrite(\"image_original.jpg\", img)\n",
    "\n",
    "# Check if image files are created\n",
    "!dir"
   ]
  },
  {
   "cell_type": "markdown",
   "metadata": {
    "id": "tvvnvl745pnp"
   },
   "source": [
    "##### 3.7 이미지 또는 비디오에 그리기"
   ]
  },
  {
   "cell_type": "markdown",
   "metadata": {
    "id": "nzpTAhMA5pnq"
   },
   "source": [
    "지금까지 우리는 이미지에 새로운 것을 추가하지 않고 이미지를 가지고 놀았습니다. 우리가 그것을 바꿀 때입니다. OpenCV를 사용하면 이미지에 변형 및 효과를 수행할 수 있을 뿐만 아니라 이미지를 변경하거나 그릴 수 있습니다.<p>\n",
    "\n",
    "예를 들어, 식별된 개체를 강조 표시하기 위해 사각형이나 모양을 그리려는 개체 추적 프로그램이나 얼굴 인식 프로그램을 만들려는 경우 이미지에 그림을 그리는 것이 유용할 수 있습니다.<p>\n",
    "\n",
    "**사각형 그리기**<p>\n",
    "\n",
    "직사각형은 이미지에서 얼굴, 자동차 또는 교통 표지판과 같은 물체를 추적하는 데 일반적으로 사용되기 때문에 적어도 AI 세계에서 가장 많이 사용되는 모양입니다.<p>\n",
    "\n",
    "**rectangle** 함수는 이미지와 4개의 추가 인수를 필요로 합니다. 이미지) 및 픽셀 단위의 두께.<p>\n",
    "\n",
    "작동 방식을 보여주기 위해 이미지에 직사각형을 그려 보겠습니다."
   ]
  },
  {
   "cell_type": "code",
   "execution_count": 39,
   "metadata": {
    "id": "EIkz3ERF5pnr"
   },
   "outputs": [],
   "source": [
    "# X1, Y1\n",
    "POS1 = (200, 100)\n",
    "\n",
    "# X2, Y2\n",
    "POS2 = (400,200)\n",
    "\n",
    "# Line color (B, G, R)\n",
    "COLOR = (0, 255, 255)\n",
    "\n",
    "# Thickness in pixels\n",
    "T = 5\n",
    "\n",
    "img = cv2.imread(\"./images/opencv_test.jpg\")\n",
    "# Drawing a rectangle to the original image\n",
    "rect_img = cv2.rectangle(img, POS1, POS2, COLOR, T)\n",
    "\n",
    "# Display the resized image\n",
    "cv2.imshow(\"Drawing rectangle on Image\", rect_img)\n",
    "\n",
    "# Wait for a keypress\n",
    "cv2.waitKey(0)\n",
    "\n",
    "# Clean up\n",
    "cv2.destroyAllWindows()"
   ]
  },
  {
   "cell_type": "markdown",
   "metadata": {
    "id": "hNQmkG--5pnr"
   },
   "source": [
    "**원 그리기**<p>\n",
    "\n",
    "이미지와 4개의 추가 인수가 필요한 **circle** 함수: (x, y)의 원 중심점, 픽셀의 반경, 색상, 선 굵기.<p>\n",
    "비디오 프레임에 원을 그려봅시다."
   ]
  },
  {
   "cell_type": "code",
   "execution_count": 41,
   "metadata": {
    "id": "I3wDDqBp5pns"
   },
   "outputs": [],
   "source": [
    "# Center - X, Y\n",
    "POS = (300, 200)\n",
    "\n",
    "# Radius\n",
    "RADIUS = 100\n",
    "\n",
    "# Line color (B, G, R)\n",
    "COLOR = (0, 0, 255)\n",
    "\n",
    "# Thickness in pixels\n",
    "T = 5\n",
    "\n",
    "# Load the video\n",
    "cap = cv2.VideoCapture(\"./images/opencv_test.mp4\")\n",
    "\n",
    "while(cap.isOpened()):\n",
    "    # Capture frame by frame\n",
    "    ret, frame = cap.read()\n",
    "\n",
    "    # Check video end\n",
    "    if ret is False:\n",
    "        break\n",
    "\n",
    "    # Drawing a circle on video frame\n",
    "    circle_frame = cv2.circle(frame, POS, RADIUS, COLOR, T)\n",
    "    \n",
    "    # Display the frame\n",
    "    cv2.imshow('Drawing circle on video frame', circle_frame)\n",
    "\n",
    "    # Wait for a keypress, Push 'q' button to close\n",
    "    if cv2.waitKey(30) & 0xFF == ord('q'):\n",
    "        break\n",
    "\n",
    "# Clean up\n",
    "cap.release()\n",
    "cv2.destroyAllWindows()"
   ]
  },
  {
   "cell_type": "markdown",
   "metadata": {
    "id": "UJQppEwm5pns"
   },
   "source": [
    "### **4. OpenCV 라이브러리를 사용한 얼굴 감지**"
   ]
  },
  {
   "cell_type": "markdown",
   "metadata": {
    "id": "Pw5eRppq5pnt"
   },
   "source": [
    "Haar feature-based cascade classifiers를 사용한 객체 감지는 Paul Viola와 Michael Jones가 2001년 \"Rapid Object Detection using a Boosted Cascade of Simple Features\" 논문에서 제안한 효과적인 객체 감지 방법입니다. 이는 기계 학습 기반 접근 방식입니다. 캐스케이드 기능은 많은 긍정적이고 부정적인 이미지에서 훈련됩니다. 그런 다음 다른 이미지에서 개체를 감지하는 데 사용됩니다.<p>\n",
    "\n",
    "여기서는 얼굴 인식을 사용합니다. 초기에 알고리즘은 분류기를 훈련시키기 위해 많은 양의 이미지(얼굴 이미지)와 부정적인 이미지(얼굴이 없는 이미지)가 필요합니다. 그런 다음 여기에서 특징을 추출해야 합니다. 이를 위해 아래 이미지와 같은 Haar 기능을 사용합니다. 그것들은 우리의 컨볼루션 커널과 같습니다. 각 특징은 검은색 사각형 아래 픽셀의 합에서 흰색 사각형 아래 픽셀의 합을 빼서 얻은 단일 값입니다.<p>\n",
    "\n",
    "![케이스케이드](./images/cascade.jpg)\n",
    "\n",
    "이 튜토리얼에서는 **OpenCV 라이브러리**(CascadeClassifier)를 사용하여 안면 인식을 구현하는 것이 **얼마나 간단한지** 배웁니다.<p>"
   ]
  },
  {
   "cell_type": "code",
   "execution_count": 44,
   "metadata": {
    "id": "SSb_jOZU5pnt"
   },
   "outputs": [],
   "source": [
    "import cv2\n",
    "import sys\n",
    "\n",
    "# Library path\n",
    "cascPath = \"./images/haarcascade_frontalface_default.xml\"\n",
    "\n",
    "# Create the haar cascade\n",
    "faceCascade = cv2.CascadeClassifier(cascPath)\n",
    "\n",
    "# Load the video\n",
    "cap = cv2.VideoCapture(\"./images/opencv_test.mp4\")\n",
    "\n",
    "while(cap.isOpened()):\n",
    "    # Capture frame by frame\n",
    "    ret, frame = cap.read()\n",
    "    \n",
    "    if ret is False:\n",
    "        break\n",
    "\n",
    "    # Convert BGR to Gray\n",
    "    gray = cv2.cvtColor(frame, cv2.COLOR_BGR2GRAY)\n",
    " \n",
    "    # Detect faces in the image\n",
    "    faces = faceCascade.detectMultiScale(\n",
    "        gray,\n",
    "        scaleFactor=1.1,     # 이미지에서 얼굴 크기가 서로 다른 것을 보상해주는 값\n",
    "        minNeighbors=5,    # 얼굴 사이의 최소 간격(픽셀)입니다\n",
    "        minSize=(30, 30),   # 얼굴의 최소 크기입니다\n",
    "    )\n",
    "    \n",
    "    # 검출된 얼굴 주변에 사각형 그리기\n",
    "    for (x, y, w, h) in faces:\n",
    "        cv2.rectangle(frame, (x, y), (x+w, y+h), (0, 255, 0), 2)\n",
    "    \n",
    "    # Display the frame\n",
    "    cv2.imshow('Face Detected Video', frame)\n",
    "\n",
    "    # Wait for a keypress, Push 'q' button to close\n",
    "    if cv2.waitKey(30) & 0xFF == ord('q'):\n",
    "        break\n",
    "\n",
    "# Clean up\n",
    "cap.release()\n",
    "cv2.destroyAllWindows()"
   ]
  },
  {
   "cell_type": "code",
   "execution_count": null,
   "metadata": {
    "id": "7ufrBLd2nypS"
   },
   "outputs": [],
   "source": []
  }
 ],
 "metadata": {
  "colab": {
   "collapsed_sections": [],
   "name": "Day1_L01_1 - OpenCV_1.ipynb",
   "provenance": []
  },
  "kernelspec": {
   "display_name": "Python 3 (ipykernel)",
   "language": "python",
   "name": "python3"
  },
  "language_info": {
   "codemirror_mode": {
    "name": "ipython",
    "version": 3
   },
   "file_extension": ".py",
   "mimetype": "text/x-python",
   "name": "python",
   "nbconvert_exporter": "python",
   "pygments_lexer": "ipython3",
   "version": "3.9.7"
  }
 },
 "nbformat": 4,
 "nbformat_minor": 1
}
